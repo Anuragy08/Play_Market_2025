{
 "cells": [
  {
   "cell_type": "code",
   "execution_count": 1,
   "id": "b3607d7b-44f7-447f-b753-6f4578a5d5a4",
   "metadata": {},
   "outputs": [],
   "source": [
    "import mysql.connector\n",
    "from mysql.connector import errorcode\n",
    "import pandas as pd\n",
    "import time"
   ]
  },
  {
   "cell_type": "code",
   "execution_count": 2,
   "id": "4d46ab23-1e0a-472f-ab4e-47d108fa6d38",
   "metadata": {},
   "outputs": [],
   "source": [
    "# MySQL Credentials\n",
    "host = 'localhost'\n",
    "user = 'root'\n",
    "password = 'V@nya'\n",
    "port = 3306\n",
    "database_name = 'Play_Market_2025'"
   ]
  },
  {
   "cell_type": "code",
   "execution_count": 3,
   "id": "5d56dfb0-4c9a-4f05-b9d5-27fcecd328fb",
   "metadata": {},
   "outputs": [],
   "source": [
    "table_1 = 'apps_info'\n",
    "table_2 = 'apps_reviews'\n",
    "table_3 = 'games_info'\n",
    "table_4 = 'games_reviews'\n",
    "\n",
    "# App performance & Downloads\n",
    "# Top 10 apps by total downloads\n",
    "query_1A = f\"\"\"\n",
    "            select app_id, app_name, categories, downloads from {table_1}\n",
    "            group by 1,2\n",
    "            order by 4 desc\n",
    "            limit 10;\n",
    "            \"\"\"\n",
    "\n",
    "# Average Score & number of reviews per category\n",
    "query_2A = f\"\"\"\n",
    "            select t1.categories, count(t2.review_text) as \"Total Reviews\", avg(t2.review_score) as \"Average Review Score\" from {table_1} t1\n",
    "            join {table_2} t2 on t1.app_id = t2.app_id\n",
    "            group by 1\n",
    "            order by 2 desc;\n",
    "            \"\"\"\n",
    "\n",
    "# Monthly trend of app reviews\n",
    "query_3A = f\"\"\"\n",
    "            select date_format(review_date, '%y-%m') as \"Month_Name\", avg(review_score) as \"Average_Review_Score\" from {table_2}\n",
    "            where monthname(review_date) is not null\n",
    "            group by 1\n",
    "            order by 1;\n",
    "            \"\"\"\n",
    "\n",
    "# Top 5 most helpful app reviews\n",
    "query_4A = f\"\"\"\n",
    "            select t1.app_id, t1.app_name, count(t2.review_score) as \"Number of Review Scores\", sum(t2.helpful_count) as \"Total helpful app reviews\" from {table_1} t1\n",
    "            join {table_2} t2 on t1.app_id = t2.app_id\n",
    "            group by 1,2\n",
    "            order by 4 desc\n",
    "            limit 5;\n",
    "            \"\"\""
   ]
  },
  {
   "cell_type": "code",
   "execution_count": 4,
   "id": "814f7de5-4ab0-49e5-9376-c263d3940aad",
   "metadata": {},
   "outputs": [],
   "source": [
    "#Game Insights\n",
    "#Top 10 games with highest rating and more than 10,000 downloads.\n",
    "query_1G = f\"\"\"\n",
    "            select game_id, game_name, downloads, max(score) as \"Highest_rating\" from {table_3}\n",
    "            where downloads > 10000\n",
    "            group by 1,2,3\n",
    "            order by 4 desc\n",
    "            limit 10;\n",
    "            \"\"\"\n",
    "#Game section with average score and number of games\n",
    "query_2G = f\"\"\"\n",
    "            select section, count(game_name) as \"Number of games\", avg(score) as \"Average_Score\" from {table_3}\n",
    "            group by 1\n",
    "            order by 2 desc;\n",
    "            \"\"\"\n",
    "\n",
    "#Monthly trend of game reviews\n",
    "query_3G = f\"\"\"\n",
    "            select date_format(review_date, '%y-%m') as \"Month_Name\", avg(review_score) as \"Average_Review_Score\" from {table_4}\n",
    "            where monthname(review_date) is not null\n",
    "            group by 1\n",
    "            order by 1;\n",
    "            \"\"\""
   ]
  },
  {
   "cell_type": "code",
   "execution_count": 5,
   "id": "69bb2830-87aa-4e18-a2c0-02edb4a8c9f1",
   "metadata": {},
   "outputs": [],
   "source": [
    "#User Review Analysis\n",
    "#Apps with the highest average review score\n",
    "query_1U = f\"\"\"\n",
    "            select t1.app_name, avg(t2.review_score) as \"Average_Review_score\" from {table_1} t1\n",
    "            join {table_2} t2 on t1.app_id = t2.app_id\n",
    "            group by 1\n",
    "            order by 2 desc\n",
    "            limit 10;\n",
    "            \"\"\"\n",
    "\n",
    "#Total reviews and average helpful count per app/game\n",
    "query_2U = f\"\"\"\n",
    "            select \"Apps\" as \"Type\", t1.app_name, count(t2.review_score) as \"Total Reviews\", avg(t2.helpful_count) as \"Average Helpful count\" from {table_1} t1\n",
    "            join {table_2} t2 on t1.app_id = t2.app_id\n",
    "            group by 2\n",
    "            Union ALL\n",
    "            select \"Games\" as \"Type\", t1.game_name, count(t2.review_score) as \"Total Reviews\", avg(t2.helpful_count) as \"Average Helpful count\" from {table_3} t1\n",
    "            join {table_4} t2 on t1.game_id = t2.game_id\n",
    "            group by 2;\n",
    "            \"\"\"\n",
    "\n",
    "#Top apps and games by total review volume\n",
    "query_3UA = f\"\"\"\n",
    "            select \"App\" as \"Type\", t1.app_name, count(t2.review_score) as \"Total_Review_Volume\" from {table_1} t1\n",
    "            join {table_2} t2 on t1.app_id = t2.app_id\n",
    "            group by 1,2\n",
    "            order by 3 desc\n",
    "            limit 10;\n",
    "            \"\"\"\n",
    "\n",
    "query_3UB = f\"\"\"\n",
    "            select \"Games\" as \"Type\", t1.game_name, count(t2.review_score) as \"Total_Review_Volume\" from {table_3} t1\n",
    "            join {table_4} t2 on t1.game_id = t2.game_id\n",
    "            group by 1,2\n",
    "            order by 3 desc\n",
    "            limit 10;\n",
    "            \"\"\""
   ]
  },
  {
   "cell_type": "code",
   "execution_count": 6,
   "id": "09f660ed-e0a8-4fdd-9a50-80a1bebc4dbf",
   "metadata": {},
   "outputs": [],
   "source": [
    "#Dynamic_charting\n",
    "\n",
    "#Filter by category: Show App Performance\n",
    "query_1DC = f\"\"\"\n",
    "            select categories, app_name, sum(downloads) as \"Total_downloads\", Avg(score) as \"Average_Score\" from {table_1}\n",
    "            group by 1,2;\n",
    "            \"\"\"\n",
    "\n",
    "#Compare App Review Scores by Section\n",
    "query_2DC = f\"\"\"\n",
    "            select t1.section, t1.app_name, AVG(t2.review_score) as \"avg_score\" from {table_1} t1\n",
    "            join {table_2} t2 on t1.app_id = t2.app_id\n",
    "            group by 1,2;\n",
    "            \"\"\"\n",
    "\n",
    "#Review Trend Over Time by App\n",
    "query_3DC = f\"\"\"\n",
    "            select t2.app_id, t2.app_name, DATE_FORMAT(review_date, '%y-%m'), count(*) as \"Total_Review\" from {table_2} t1\n",
    "            join {table_1} t2 on t1.app_id = t2.app_id\n",
    "            group by 1,2,3\n",
    "            order by 4;\n",
    "            \"\"\"\n",
    "\n",
    "#Select a Game Section and Compare Downloads\n",
    "query_4DC = f\"\"\"\n",
    "            select section, game_name, downloads from {table_3};\n",
    "            \"\"\"\n",
    "\n",
    "#Helpful Review Analysis per App/Game\n",
    "query_5DC_A = f\"\"\"\n",
    "            select t1.app_name, avg(t2.helpful_count) as \"Average_helpful_count\" from {table_1} t1\n",
    "            join {table_2} t2 on t1.app_id = t2.app_id\n",
    "            group by 1\n",
    "            order by 2 desc;\n",
    "            \"\"\"\n",
    "\n",
    "query_5DC_B = f\"\"\"\n",
    "              select t1.game_name, avg(t2.helpful_count) as \"Average_helpful_count\" from {table_3} t1\n",
    "              join {table_4} t2 on t1.app_id = t2.app_id\n",
    "              group by 1\n",
    "              order by 2 desc;\n",
    "              \"\"\"\n",
    "\n",
    "#Download Vs Score Scatter Plot for selected category\n",
    "query_6DC = f\"\"\"\n",
    "            select categories, app_name, downloads, score from {table_1};\n",
    "            \"\"\"\n",
    "\n",
    "#Top 5 reviewed apps for a given month\n",
    "query_7DC = f\"\"\"\n",
    "            select month(review_date) as Month, t2.app_name, count(*) as total_reviews from {table_2} t1\n",
    "            join {table_1} t2 on t1.app_id = t2.app_id\n",
    "            group by 1,2;\n",
    "            \"\"\"\n"
   ]
  },
  {
   "cell_type": "code",
   "execution_count": 14,
   "id": "b5ae27ca-0449-4c9f-9e73-a8d3681de9d8",
   "metadata": {},
   "outputs": [],
   "source": [
    "#Type File\n",
    "query_1T = f\"\"\"\n",
    "            select 'Apps' as \"Type\", t1.*, t2.* from {table_1} t1\n",
    "            join {table_2} t2 on t1.app_id = t2.app_id\n",
    "            Union All\n",
    "            select 'Games' as \"Type\", t1.*, t2.* from {table_3} t1\n",
    "            join {table_4} t2 on t1.game_id = t2.game_id;\n",
    "            \"\"\""
   ]
  },
  {
   "cell_type": "code",
   "execution_count": 16,
   "id": "fb1a2673-fc78-45d6-b02c-e5891b2d39bb",
   "metadata": {},
   "outputs": [
    {
     "name": "stdout",
     "output_type": "stream",
     "text": [
      "Database Switched!\n",
      "File Exported for query_1A\n"
     ]
    },
    {
     "name": "stderr",
     "output_type": "stream",
     "text": [
      "C:\\Users\\anura\\AppData\\Local\\Temp\\ipykernel_19936\\2861724632.py:16: UserWarning: pandas only supports SQLAlchemy connectable (engine/connection) or database string URI or sqlite3 DBAPI2 connection. Other DBAPI2 objects are not tested. Please consider using SQLAlchemy.\n",
      "  df1A = pd.read_sql(query_1A, conn)\n",
      "C:\\Users\\anura\\AppData\\Local\\Temp\\ipykernel_19936\\2861724632.py:21: UserWarning: pandas only supports SQLAlchemy connectable (engine/connection) or database string URI or sqlite3 DBAPI2 connection. Other DBAPI2 objects are not tested. Please consider using SQLAlchemy.\n",
      "  df2A = pd.read_sql(query_2A, conn)\n"
     ]
    },
    {
     "name": "stdout",
     "output_type": "stream",
     "text": [
      "File Exported for query_2A\n"
     ]
    },
    {
     "name": "stderr",
     "output_type": "stream",
     "text": [
      "C:\\Users\\anura\\AppData\\Local\\Temp\\ipykernel_19936\\2861724632.py:26: UserWarning: pandas only supports SQLAlchemy connectable (engine/connection) or database string URI or sqlite3 DBAPI2 connection. Other DBAPI2 objects are not tested. Please consider using SQLAlchemy.\n",
      "  df3A = pd.read_sql(query_3A, conn)\n"
     ]
    },
    {
     "name": "stdout",
     "output_type": "stream",
     "text": [
      "File Exported for query_3A\n"
     ]
    },
    {
     "name": "stderr",
     "output_type": "stream",
     "text": [
      "C:\\Users\\anura\\AppData\\Local\\Temp\\ipykernel_19936\\2861724632.py:31: UserWarning: pandas only supports SQLAlchemy connectable (engine/connection) or database string URI or sqlite3 DBAPI2 connection. Other DBAPI2 objects are not tested. Please consider using SQLAlchemy.\n",
      "  df4A = pd.read_sql(query_4A, conn)\n"
     ]
    },
    {
     "name": "stdout",
     "output_type": "stream",
     "text": [
      "File Exported for query_4A\n",
      "File Exported for query_1G\n",
      "File Exported for query_2G\n"
     ]
    },
    {
     "name": "stderr",
     "output_type": "stream",
     "text": [
      "C:\\Users\\anura\\AppData\\Local\\Temp\\ipykernel_19936\\2861724632.py:38: UserWarning: pandas only supports SQLAlchemy connectable (engine/connection) or database string URI or sqlite3 DBAPI2 connection. Other DBAPI2 objects are not tested. Please consider using SQLAlchemy.\n",
      "  df1G = pd.read_sql(query_1G, conn)\n",
      "C:\\Users\\anura\\AppData\\Local\\Temp\\ipykernel_19936\\2861724632.py:43: UserWarning: pandas only supports SQLAlchemy connectable (engine/connection) or database string URI or sqlite3 DBAPI2 connection. Other DBAPI2 objects are not tested. Please consider using SQLAlchemy.\n",
      "  df2G = pd.read_sql(query_2G, conn)\n",
      "C:\\Users\\anura\\AppData\\Local\\Temp\\ipykernel_19936\\2861724632.py:48: UserWarning: pandas only supports SQLAlchemy connectable (engine/connection) or database string URI or sqlite3 DBAPI2 connection. Other DBAPI2 objects are not tested. Please consider using SQLAlchemy.\n",
      "  df3G = pd.read_sql(query_3G, conn)\n"
     ]
    },
    {
     "name": "stdout",
     "output_type": "stream",
     "text": [
      "File Exported for query_3G\n"
     ]
    },
    {
     "name": "stderr",
     "output_type": "stream",
     "text": [
      "C:\\Users\\anura\\AppData\\Local\\Temp\\ipykernel_19936\\2861724632.py:55: UserWarning: pandas only supports SQLAlchemy connectable (engine/connection) or database string URI or sqlite3 DBAPI2 connection. Other DBAPI2 objects are not tested. Please consider using SQLAlchemy.\n",
      "  df1U = pd.read_sql(query_1U, conn)\n"
     ]
    },
    {
     "name": "stdout",
     "output_type": "stream",
     "text": [
      "File Exported for query_1U\n"
     ]
    },
    {
     "name": "stderr",
     "output_type": "stream",
     "text": [
      "C:\\Users\\anura\\AppData\\Local\\Temp\\ipykernel_19936\\2861724632.py:60: UserWarning: pandas only supports SQLAlchemy connectable (engine/connection) or database string URI or sqlite3 DBAPI2 connection. Other DBAPI2 objects are not tested. Please consider using SQLAlchemy.\n",
      "  df2U = pd.read_sql(query_2U, conn)\n"
     ]
    },
    {
     "name": "stdout",
     "output_type": "stream",
     "text": [
      "File Exported for query_2U\n"
     ]
    },
    {
     "name": "stderr",
     "output_type": "stream",
     "text": [
      "C:\\Users\\anura\\AppData\\Local\\Temp\\ipykernel_19936\\2861724632.py:65: UserWarning: pandas only supports SQLAlchemy connectable (engine/connection) or database string URI or sqlite3 DBAPI2 connection. Other DBAPI2 objects are not tested. Please consider using SQLAlchemy.\n",
      "  df3UA = pd.read_sql(query_3UA, conn)\n"
     ]
    },
    {
     "name": "stdout",
     "output_type": "stream",
     "text": [
      "File Exported for query_3UA\n"
     ]
    },
    {
     "name": "stderr",
     "output_type": "stream",
     "text": [
      "C:\\Users\\anura\\AppData\\Local\\Temp\\ipykernel_19936\\2861724632.py:69: UserWarning: pandas only supports SQLAlchemy connectable (engine/connection) or database string URI or sqlite3 DBAPI2 connection. Other DBAPI2 objects are not tested. Please consider using SQLAlchemy.\n",
      "  df3UB = pd.read_sql(query_3UB, conn)\n"
     ]
    },
    {
     "name": "stdout",
     "output_type": "stream",
     "text": [
      "File Exported for query_3UB\n",
      "File Exported for query_1DC\n"
     ]
    },
    {
     "name": "stderr",
     "output_type": "stream",
     "text": [
      "C:\\Users\\anura\\AppData\\Local\\Temp\\ipykernel_19936\\2861724632.py:76: UserWarning: pandas only supports SQLAlchemy connectable (engine/connection) or database string URI or sqlite3 DBAPI2 connection. Other DBAPI2 objects are not tested. Please consider using SQLAlchemy.\n",
      "  df1DC = pd.read_sql(query_1DC, conn)\n",
      "C:\\Users\\anura\\AppData\\Local\\Temp\\ipykernel_19936\\2861724632.py:81: UserWarning: pandas only supports SQLAlchemy connectable (engine/connection) or database string URI or sqlite3 DBAPI2 connection. Other DBAPI2 objects are not tested. Please consider using SQLAlchemy.\n",
      "  df2DC = pd.read_sql(query_2DC, conn)\n"
     ]
    },
    {
     "name": "stdout",
     "output_type": "stream",
     "text": [
      "File Exported for query_2DC\n"
     ]
    },
    {
     "name": "stderr",
     "output_type": "stream",
     "text": [
      "C:\\Users\\anura\\AppData\\Local\\Temp\\ipykernel_19936\\2861724632.py:86: UserWarning: pandas only supports SQLAlchemy connectable (engine/connection) or database string URI or sqlite3 DBAPI2 connection. Other DBAPI2 objects are not tested. Please consider using SQLAlchemy.\n",
      "  df3DC = pd.read_sql(query_3DC, conn)\n"
     ]
    },
    {
     "name": "stdout",
     "output_type": "stream",
     "text": [
      "File Exported for query_3DC\n",
      "File Exported for query_4DC\n"
     ]
    },
    {
     "name": "stderr",
     "output_type": "stream",
     "text": [
      "C:\\Users\\anura\\AppData\\Local\\Temp\\ipykernel_19936\\2861724632.py:91: UserWarning: pandas only supports SQLAlchemy connectable (engine/connection) or database string URI or sqlite3 DBAPI2 connection. Other DBAPI2 objects are not tested. Please consider using SQLAlchemy.\n",
      "  df4DC = pd.read_sql(query_4DC, conn)\n",
      "C:\\Users\\anura\\AppData\\Local\\Temp\\ipykernel_19936\\2861724632.py:96: UserWarning: pandas only supports SQLAlchemy connectable (engine/connection) or database string URI or sqlite3 DBAPI2 connection. Other DBAPI2 objects are not tested. Please consider using SQLAlchemy.\n",
      "  df5DC_A = pd.read_sql(query_5DC_A, conn)\n"
     ]
    },
    {
     "name": "stdout",
     "output_type": "stream",
     "text": [
      "File Exported for query_5DC_A\n",
      "File Exported for query_6DC\n"
     ]
    },
    {
     "name": "stderr",
     "output_type": "stream",
     "text": [
      "C:\\Users\\anura\\AppData\\Local\\Temp\\ipykernel_19936\\2861724632.py:101: UserWarning: pandas only supports SQLAlchemy connectable (engine/connection) or database string URI or sqlite3 DBAPI2 connection. Other DBAPI2 objects are not tested. Please consider using SQLAlchemy.\n",
      "  df6DC = pd.read_sql(query_6DC, conn)\n",
      "C:\\Users\\anura\\AppData\\Local\\Temp\\ipykernel_19936\\2861724632.py:106: UserWarning: pandas only supports SQLAlchemy connectable (engine/connection) or database string URI or sqlite3 DBAPI2 connection. Other DBAPI2 objects are not tested. Please consider using SQLAlchemy.\n",
      "  df7DC = pd.read_sql(query_7DC, conn)\n"
     ]
    },
    {
     "name": "stdout",
     "output_type": "stream",
     "text": [
      "File Exported for query_7DC\n"
     ]
    },
    {
     "name": "stderr",
     "output_type": "stream",
     "text": [
      "C:\\Users\\anura\\AppData\\Local\\Temp\\ipykernel_19936\\2861724632.py:111: UserWarning: pandas only supports SQLAlchemy connectable (engine/connection) or database string URI or sqlite3 DBAPI2 connection. Other DBAPI2 objects are not tested. Please consider using SQLAlchemy.\n",
      "  df1T = pd.read_sql(query_1T, conn)\n"
     ]
    },
    {
     "name": "stdout",
     "output_type": "stream",
     "text": [
      "File Exported for query_1T\n",
      "MySQL connection closed.\n"
     ]
    }
   ],
   "source": [
    "try:\n",
    "    #connect to MySQL Server\n",
    "    conn = mysql.connector.connect(\n",
    "        host = host,\n",
    "        user = user,\n",
    "        password = password,\n",
    "        allow_local_infile = True\n",
    "    )\n",
    "    cursor = conn.cursor()\n",
    "\n",
    "    #Use play_market database\n",
    "    cursor.execute(f\"USE {database_name}\")\n",
    "    print(f\"Database Switched!\")\n",
    "\n",
    "    #App Performance & Downloads (Query_1) [Top 10 apps by total downloads (Bar/Column chart : app_name Vs downloads)]\n",
    "    df1A = pd.read_sql(query_1A, conn)\n",
    "    df1A.to_csv(\"C:/Users/anura/OneDrive/Desktop/Play Market/New folder/Excel Dashboard Export/App Performance & Downloads/query_1.csv\", index = False)\n",
    "    print(\"File Exported for query_1A\")\n",
    "\n",
    "    #App Performance & Downloads (Query_2) [Average Score & number of reviews per category (Combo chart: bar for review count + line for avg score)]\n",
    "    df2A = pd.read_sql(query_2A, conn)\n",
    "    df2A.to_csv(\"C:/Users/anura/OneDrive/Desktop/Play Market/New folder/Excel Dashboard Export/App Performance & Downloads/query_2.csv\", index = False)\n",
    "    print(\"File Exported for query_2A\")\n",
    "\n",
    "    #App Performance & Downloads (Query_3) [Monthly trend of app reviews (Line chart - To show distribution over time)]\n",
    "    df3A = pd.read_sql(query_3A, conn)\n",
    "    df3A.to_csv(\"C:/Users/anura/OneDrive/Desktop/Play Market/New folder/Excel Dashboard Export/App Performance & Downloads/query_3.csv\", index = False)\n",
    "    print(\"File Exported for query_3A\")\n",
    "\n",
    "    #App Performance & Downloads (Query_4) [Top 5 most helpful app reviews  (summary table with conditional formatting on Total helpful app reviews)]\n",
    "    df4A = pd.read_sql(query_4A, conn)\n",
    "    df4A.to_csv(\"C:/Users/anura/OneDrive/Desktop/Play Market/New folder/Excel Dashboard Export/App Performance & Downloads/query_4.csv\", index = False)\n",
    "    print(\"File Exported for query_4A\")\n",
    "\n",
    "    #Game Insights (Query_1) [Top 10 games with highest rating and more than 10,000 downloads]\n",
    "    df1G = pd.read_sql(query_1G, conn)\n",
    "    df1G.to_csv(\"C:/Users/anura/OneDrive/Desktop/Play Market/New folder/Excel Dashboard Export/Game Insights/query_1.csv\", index = False)\n",
    "    print(\"File Exported for query_1G\")\n",
    "\n",
    "    #Game Insight (Query_2) [Game section with average score and number of games (Clustered bar chart: category vs Average Score and Total Games/Treemap: Size by total_games, color by avg_score)\n",
    "    df2G = pd.read_sql(query_2G, conn)\n",
    "    df2G.to_csv(\"C:/Users/anura/OneDrive/Desktop/Play Market/New folder/Excel Dashboard Export/Game Insights/query_2.csv\", index = False)\n",
    "    print(\"File Exported for query_2G\")\n",
    "\n",
    "    #Game Insight (Query_3) [Monthly treand of game reviews (Line chart - To show distribution over time)]\n",
    "    df3G = pd.read_sql(query_3G, conn)\n",
    "    df3G.to_csv(\"C:/Users/anura/OneDrive/Desktop/Play Market/New folder/Excel Dashboard Export/Game Insights/query_3.csv\", index = False)\n",
    "    print(\"File Exported for query_3G\")\n",
    "\n",
    "    #time.sleep(2) \n",
    "\n",
    "    #User Review Analysis (Query_1) [Apps with the highest average review score (from apps_reviews)]\n",
    "    df1U = pd.read_sql(query_1U, conn)\n",
    "    df1U.to_csv(\"C:/Users/anura/OneDrive/Desktop/Play Market/New folder/Excel Dashboard Export/User Review Analysis/query_1.csv\", index = False)\n",
    "    print(\"File Exported for query_1U\")\n",
    "    \n",
    "    #User Review Analysis (Query_2) [Total reviews and average helpful count per app/game (Bar Chart: App/Game vs Review Count,Bubble chart: Total Reviews Vs Avg Helpful Count)]\n",
    "    df2U = pd.read_sql(query_2U, conn)\n",
    "    df2U.to_csv(\"C:/Users/anura/OneDrive/Desktop/Play Market/New folder/Excel Dashboard Export/User Review Analysis/query_2.csv\", index = False)\n",
    "    print(\"File Exported for query_2U\")\n",
    "    \n",
    "    #User Review Analysis (Query_2) [Top apps and games by total review volume (Bar Chart: App/Game name vs total reviews)]\n",
    "    df3UA = pd.read_sql(query_3UA, conn)\n",
    "    df3UA.to_csv(\"C:/Users/anura/OneDrive/Desktop/Play Market/New folder/Excel Dashboard Export/User Review Analysis/query_3A.csv\", index = False)\n",
    "    print(\"File Exported for query_3UA\")\n",
    "\n",
    "    df3UB = pd.read_sql(query_3UB, conn)\n",
    "    df3UB.to_csv(\"C:/Users/anura/OneDrive/Desktop/Play Market/New folder/Excel Dashboard Export/User Review Analysis/query_3B.csv\", index = False)\n",
    "    print(\"File Exported for query_3UB\")\n",
    "\n",
    "    #time.sleep(2)1\n",
    "    \n",
    "    # Dynamic_Charting (Filter by category: Show App Performance)[Create a drop-down to choose categories. The chart(e.g. bar chart of downloads per app) updates accordingly]\n",
    "    df1DC = pd.read_sql(query_1DC, conn)\n",
    "    df1DC.to_csv(\"C:/Users/anura/OneDrive/Desktop/Play Market/New folder/Excel Dashboard Export/Dynamic Charting/query_1DC.csv\", index = False)\n",
    "    print(\"File Exported for query_1DC\")\n",
    "\n",
    "    # Dynamic_Charting (Compare App Review Scores by Section)[Drop down to filter by section. Display a line or column chart of app names vs scores]\n",
    "    df2DC = pd.read_sql(query_2DC, conn)\n",
    "    df2DC.to_csv(\"C:/Users/anura/OneDrive/Desktop/Play Market/New folder/Excel Dashboard Export/Dynamic Charting/query_2DC.csv\", index = False)\n",
    "    print(\"File Exported for query_2DC\")\n",
    "\n",
    "    # Dynamic_Charting (Review Trend Over Time by App)[Drop-Down to select app_name, Line chart updates to show monthly review volume]\n",
    "    df3DC = pd.read_sql(query_3DC, conn)\n",
    "    df3DC.to_csv(\"C:/Users/anura/OneDrive/Desktop/Play Market/New folder/Excel Dashboard Export/Dynamic Charting/query_3DC.csv\", index = False)\n",
    "    print(\"File Exported for query_3DC\")\n",
    "\n",
    "    # Dynamic_Charting (Select a Game Section and Compare Downloads)[Drop-down with section values. Plot top games by downloads using a bar chart]\n",
    "    df4DC = pd.read_sql(query_4DC, conn)\n",
    "    df4DC.to_csv(\"C:/Users/anura/OneDrive/Desktop/Play Market/New folder/Excel Dashboard Export/Dynamic Charting/query_4DC.csv\", index = False)\n",
    "    print(\"File Exported for query_4DC\")\n",
    "\n",
    "    # Dynamic_Charting (Helpful Review Analysis per App/Game)[Drop-down of app names. Gauge chart shows average helpfulness of reviews]\n",
    "    df5DC_A = pd.read_sql(query_5DC_A, conn)\n",
    "    df5DC_A.to_csv(\"C:/Users/anura/OneDrive/Desktop/Play Market/New folder/Excel Dashboard Export/Dynamic Charting/query_5DC_A.csv\", index = False)\n",
    "    print(\"File Exported for query_5DC_A\")\n",
    "\n",
    "    # Dynamic_Charting (Download Vs Score Scatter Plot for selected category)[Drop-Down with categories. Scatter plot shows relationship between downloads and score]\n",
    "    df6DC = pd.read_sql(query_6DC, conn)\n",
    "    df6DC.to_csv(\"C:/Users/anura/OneDrive/Desktop/Play Market/New folder/Excel Dashboard Export/Dynamic Charting/query_6DC.csv\", index = False)\n",
    "    print(\"File Exported for query_6DC\")\n",
    "\n",
    "    # Dynamic_Charting (Download Vs Score Scatter Plot for selected category)[Drop-Down with categories. Scatter plot shows relationship between downloads and score]\n",
    "    df7DC = pd.read_sql(query_7DC, conn)\n",
    "    df7DC.to_csv(\"C:/Users/anura/OneDrive/Desktop/Play Market/New folder/Excel Dashboard Export/Dynamic Charting/query_7DC.csv\", index = False)\n",
    "    print(\"File Exported for query_7DC\")\n",
    "\n",
    "    # Type_file\n",
    "    df1T = pd.read_sql(query_1T, conn)\n",
    "    df7DC.to_csv(\"C:/Users/anura/OneDrive/Desktop/Play Market/Datasets/Type.csv\", index = False)\n",
    "    print(\"File Exported for query_1T\")\n",
    "\n",
    "except mysql.connector.Error as err:\n",
    "    if err.errno == errorcode.ER_ACCESS_DENIED_ERROR:\n",
    "        print(\"Access denied: Check your username or password.\")\n",
    "    elif err.errno == errorcode.ER_BAD_DB_ERROR:\n",
    "        print(\"Database does not exist and couldn't be created.\")\n",
    "    else:\n",
    "        print(err)\n",
    "\n",
    "finally:\n",
    "    if conn.is_connected():\n",
    "        cursor.close()\n",
    "        conn.close()\n",
    "        print(\"MySQL connection closed.\")"
   ]
  },
  {
   "cell_type": "code",
   "execution_count": null,
   "id": "eb76d873-fc7e-493b-a1f0-1a2bcdc29107",
   "metadata": {},
   "outputs": [],
   "source": []
  }
 ],
 "metadata": {
  "kernelspec": {
   "display_name": "Python [conda env:base] *",
   "language": "python",
   "name": "conda-base-py"
  },
  "language_info": {
   "codemirror_mode": {
    "name": "ipython",
    "version": 3
   },
   "file_extension": ".py",
   "mimetype": "text/x-python",
   "name": "python",
   "nbconvert_exporter": "python",
   "pygments_lexer": "ipython3",
   "version": "3.12.7"
  }
 },
 "nbformat": 4,
 "nbformat_minor": 5
}
